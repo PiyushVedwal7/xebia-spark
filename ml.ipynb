{
 "cells": [
  {
   "cell_type": "code",
   "execution_count": 47,
   "metadata": {},
   "outputs": [],
   "source": [
    "import os, sys\n",
    "from pyspark.sql import SparkSession\n",
    "import pyspark.sql.functions as fun\n",
    "from pyspark.sql.functions import col\n",
    "from pyspark.ml.regression import LinearRegression\n",
    "from pyspark.ml.feature import VectorAssembler"
   ]
  },
  {
   "cell_type": "code",
   "execution_count": 48,
   "metadata": {},
   "outputs": [],
   "source": [
    "os.environ[\"PYSPARK_PYTHON\"] = sys.executable\n",
    "os.environ[\"PYSPARK_DRIVER_PYTHON\"] = sys.executable"
   ]
  },
  {
   "cell_type": "code",
   "execution_count": 49,
   "metadata": {},
   "outputs": [],
   "source": [
    "spark = SparkSession.builder.master(\"local[*]\").appName(\"ML_LinearRegression\").getOrCreate()"
   ]
  },
  {
   "cell_type": "code",
   "execution_count": 53,
   "metadata": {},
   "outputs": [],
   "source": [
    "path=r\"C:\\Users\\ACER\\OneDrive\\Desktop\\spark_lab\\data\\data.csv\""
   ]
  },
  {
   "cell_type": "code",
   "execution_count": 60,
   "metadata": {},
   "outputs": [],
   "source": [
    "df = spark.read.csv(path, sep=\"\\t\", header=True)\n"
   ]
  },
  {
   "cell_type": "code",
   "execution_count": 54,
   "metadata": {},
   "outputs": [],
   "source": [
    "#df = spark.read.csv(path, header=True)"
   ]
  },
  {
   "cell_type": "code",
   "execution_count": 61,
   "metadata": {},
   "outputs": [
    {
     "name": "stdout",
     "output_type": "stream",
     "text": [
      "+----+----+---+---+---+-----+---+---------+----+-----------+----------+-------------------+------------+------+\n",
      "|Runs|Mins| BF| 4s| 6s|   SR|Pos|Dismissal|Inns| Opposition|    Ground|Start DateAscending|Match Number|Result|\n",
      "+----+----+---+---+---+-----+---+---------+----+-----------+----------+-------------------+------------+------+\n",
      "|  11|  92|  -|  -|  0|    -|  6|      lbw|   1|v Sri Lanka|Chandigarh|          23-Nov-90| Test # 1156|   Won|\n",
      "|  50| 158|118|  6|  0|42.37|  4|   caught|   1|  v England|   Kolkata|          29-Jan-93| Test # 1211|   Won|\n",
      "|   9|  17| 19|  2|  0|47.36|  4|  not out|   4|  v England|   Kolkata|          29-Jan-93| Test # 1211|   Won|\n",
      "| 165| 361|296| 24|  1|55.74|  4|   caught|   1|  v England|   Chennai|          11-Feb-93| Test # 1213|   Won|\n",
      "|  78| 285|213| 10|  0|36.61|  4|      lbw|   2|  v England|    Mumbai|          19-Feb-93| Test # 1214|   Won|\n",
      "+----+----+---+---+---+-----+---+---------+----+-----------+----------+-------------------+------------+------+\n",
      "only showing top 5 rows\n",
      "\n"
     ]
    }
   ],
   "source": [
    "df.show(5)"
   ]
  },
  {
   "cell_type": "code",
   "execution_count": 62,
   "metadata": {},
   "outputs": [],
   "source": [
    "df = df.toDF(*[col.strip() for col in df.columns])\n"
   ]
  },
  {
   "cell_type": "code",
   "execution_count": 65,
   "metadata": {},
   "outputs": [
    {
     "name": "stdout",
     "output_type": "stream",
     "text": [
      "+----+----+---+---+---+-----+---+---------+----+-----------+-------------+-------------------+------------+------+\n",
      "|Runs|Mins| BF| 4s| 6s|   SR|Pos|Dismissal|Inns| Opposition|       Ground|Start DateAscending|Match Number|Result|\n",
      "+----+----+---+---+---+-----+---+---------+----+-----------+-------------+-------------------+------------+------+\n",
      "|  11|  92|  -|  -|  0|    -|  6|      lbw|   1|v Sri Lanka|   Chandigarh|          23-Nov-90| Test # 1156|   Won|\n",
      "|  50| 158|118|  6|  0|42.37|  4|   caught|   1|  v England|      Kolkata|          29-Jan-93| Test # 1211|   Won|\n",
      "|   9|  17| 19|  2|  0|47.36|  4|  not out|   4|  v England|      Kolkata|          29-Jan-93| Test # 1211|   Won|\n",
      "| 165| 361|296| 24|  1|55.74|  4|   caught|   1|  v England|      Chennai|          11-Feb-93| Test # 1213|   Won|\n",
      "|  78| 285|213| 10|  0|36.61|  4|      lbw|   2|  v England|       Mumbai|          19-Feb-93| Test # 1214|   Won|\n",
      "|  62| 128|114|  7|  0|54.38|  4|   caught|   1| v Zimbabwe|        Delhi|          13-Mar-93| Test # 1218|   Won|\n",
      "|  28|  74| 52|  5|  0|53.84|  4|   caught|   1|v Sri Lanka|Colombo (SSC)|          27-Jul-93| Test # 1228|   Won|\n",
      "| 104| 217|161| 11|  1|64.59|  4|  not out|   3|v Sri Lanka|Colombo (SSC)|          27-Jul-93| Test # 1228|   Won|\n",
      "| 142| 260|224| 22|  0|63.39|  4|   caught|   1|v Sri Lanka|      Lucknow|          18-Jan-94| Test # 1244|   Won|\n",
      "|  96| 180|140| 15|  0|68.57|  4|   bowled|   1|v Sri Lanka|    Bengaluru|          26-Jan-94| Test # 1245|   Won|\n",
      "+----+----+---+---+---+-----+---+---------+----+-----------+-------------+-------------------+------------+------+\n",
      "only showing top 10 rows\n",
      "\n"
     ]
    }
   ],
   "source": [
    "df.show(10)"
   ]
  },
  {
   "cell_type": "code",
   "execution_count": 77,
   "metadata": {},
   "outputs": [],
   "source": [
    "df=df.dropna()"
   ]
  },
  {
   "cell_type": "code",
   "execution_count": 78,
   "metadata": {},
   "outputs": [
    {
     "name": "stdout",
     "output_type": "stream",
     "text": [
      "+-----+-----+-----+---+---+-----+---+---------+----+-----------+-------------+-------------------+------------+------+\n",
      "| Runs| Mins|   BF| 4s| 6s|   SR|Pos|Dismissal|Inns| Opposition|       Ground|Start DateAscending|Match Number|Result|\n",
      "+-----+-----+-----+---+---+-----+---+---------+----+-----------+-------------+-------------------+------------+------+\n",
      "| 50.0|158.0|118.0|  6|  0|42.37|  4|   caught|   1|  v England|      Kolkata|          29-Jan-93| Test # 1211|   Won|\n",
      "|  9.0| 17.0| 19.0|  2|  0|47.36|  4|  not out|   4|  v England|      Kolkata|          29-Jan-93| Test # 1211|   Won|\n",
      "|165.0|361.0|296.0| 24|  1|55.74|  4|   caught|   1|  v England|      Chennai|          11-Feb-93| Test # 1213|   Won|\n",
      "| 78.0|285.0|213.0| 10|  0|36.61|  4|      lbw|   2|  v England|       Mumbai|          19-Feb-93| Test # 1214|   Won|\n",
      "| 62.0|128.0|114.0|  7|  0|54.38|  4|   caught|   1| v Zimbabwe|        Delhi|          13-Mar-93| Test # 1218|   Won|\n",
      "| 28.0| 74.0| 52.0|  5|  0|53.84|  4|   caught|   1|v Sri Lanka|Colombo (SSC)|          27-Jul-93| Test # 1228|   Won|\n",
      "|104.0|217.0|161.0| 11|  1|64.59|  4|  not out|   3|v Sri Lanka|Colombo (SSC)|          27-Jul-93| Test # 1228|   Won|\n",
      "|142.0|260.0|224.0| 22|  0|63.39|  4|   caught|   1|v Sri Lanka|      Lucknow|          18-Jan-94| Test # 1244|   Won|\n",
      "| 96.0|180.0|140.0| 15|  0|68.57|  4|   bowled|   1|v Sri Lanka|    Bengaluru|          26-Jan-94| Test # 1245|   Won|\n",
      "|  6.0| 25.0| 14.0|  1|  0|42.85|  4|   bowled|   2|v Sri Lanka|    Ahmedabad|          08-Feb-94| Test # 1247|   Won|\n",
      "+-----+-----+-----+---+---+-----+---+---------+----+-----------+-------------+-------------------+------------+------+\n",
      "only showing top 10 rows\n",
      "\n"
     ]
    }
   ],
   "source": [
    "df.show(10)"
   ]
  },
  {
   "cell_type": "code",
   "execution_count": 79,
   "metadata": {},
   "outputs": [],
   "source": [
    "df = df.withColumn(\"Runs\", df[\"Runs\"].cast(\"float\")) \\\n",
    "       .withColumn(\"Mins\", df[\"Mins\"].cast(\"float\")) \\\n",
    "       .withColumn(\"BF\", df[\"BF\"].cast(\"float\"))"
   ]
  },
  {
   "cell_type": "code",
   "execution_count": 80,
   "metadata": {},
   "outputs": [
    {
     "name": "stdout",
     "output_type": "stream",
     "text": [
      "+-----+-----+-----+---+---+-----+---+---------+----+-----------+-------------+-------------------+------------+------+\n",
      "| Runs| Mins|   BF| 4s| 6s|   SR|Pos|Dismissal|Inns| Opposition|       Ground|Start DateAscending|Match Number|Result|\n",
      "+-----+-----+-----+---+---+-----+---+---------+----+-----------+-------------+-------------------+------------+------+\n",
      "| 50.0|158.0|118.0|  6|  0|42.37|  4|   caught|   1|  v England|      Kolkata|          29-Jan-93| Test # 1211|   Won|\n",
      "|  9.0| 17.0| 19.0|  2|  0|47.36|  4|  not out|   4|  v England|      Kolkata|          29-Jan-93| Test # 1211|   Won|\n",
      "|165.0|361.0|296.0| 24|  1|55.74|  4|   caught|   1|  v England|      Chennai|          11-Feb-93| Test # 1213|   Won|\n",
      "| 78.0|285.0|213.0| 10|  0|36.61|  4|      lbw|   2|  v England|       Mumbai|          19-Feb-93| Test # 1214|   Won|\n",
      "| 62.0|128.0|114.0|  7|  0|54.38|  4|   caught|   1| v Zimbabwe|        Delhi|          13-Mar-93| Test # 1218|   Won|\n",
      "| 28.0| 74.0| 52.0|  5|  0|53.84|  4|   caught|   1|v Sri Lanka|Colombo (SSC)|          27-Jul-93| Test # 1228|   Won|\n",
      "|104.0|217.0|161.0| 11|  1|64.59|  4|  not out|   3|v Sri Lanka|Colombo (SSC)|          27-Jul-93| Test # 1228|   Won|\n",
      "|142.0|260.0|224.0| 22|  0|63.39|  4|   caught|   1|v Sri Lanka|      Lucknow|          18-Jan-94| Test # 1244|   Won|\n",
      "| 96.0|180.0|140.0| 15|  0|68.57|  4|   bowled|   1|v Sri Lanka|    Bengaluru|          26-Jan-94| Test # 1245|   Won|\n",
      "|  6.0| 25.0| 14.0|  1|  0|42.85|  4|   bowled|   2|v Sri Lanka|    Ahmedabad|          08-Feb-94| Test # 1247|   Won|\n",
      "+-----+-----+-----+---+---+-----+---+---------+----+-----------+-------------+-------------------+------------+------+\n",
      "only showing top 10 rows\n",
      "\n"
     ]
    }
   ],
   "source": [
    "df.show(10)"
   ]
  },
  {
   "cell_type": "code",
   "execution_count": 82,
   "metadata": {},
   "outputs": [],
   "source": [
    "df=df.select(*[\"Runs\",\"Mins\",\"BF\"])"
   ]
  },
  {
   "cell_type": "code",
   "execution_count": 83,
   "metadata": {},
   "outputs": [],
   "source": [
    "X = df.drop(\"Runs\")"
   ]
  },
  {
   "cell_type": "code",
   "execution_count": 85,
   "metadata": {},
   "outputs": [],
   "source": [
    "from pyspark.sql.functions import col"
   ]
  },
  {
   "cell_type": "code",
   "execution_count": 86,
   "metadata": {},
   "outputs": [],
   "source": [
    "assembler = VectorAssembler(inputCols=X.columns, outputCol=\"features\")"
   ]
  },
  {
   "cell_type": "code",
   "execution_count": 87,
   "metadata": {},
   "outputs": [],
   "source": [
    "df_vector = assembler.transform(df)"
   ]
  },
  {
   "cell_type": "code",
   "execution_count": 88,
   "metadata": {},
   "outputs": [
    {
     "name": "stdout",
     "output_type": "stream",
     "text": [
      "+-----+-----+-----+-------------+\n",
      "| Runs| Mins|   BF|     features|\n",
      "+-----+-----+-----+-------------+\n",
      "| 50.0|158.0|118.0|[158.0,118.0]|\n",
      "|  9.0| 17.0| 19.0|  [17.0,19.0]|\n",
      "|165.0|361.0|296.0|[361.0,296.0]|\n",
      "| 78.0|285.0|213.0|[285.0,213.0]|\n",
      "| 62.0|128.0|114.0|[128.0,114.0]|\n",
      "+-----+-----+-----+-------------+\n",
      "only showing top 5 rows\n",
      "\n"
     ]
    }
   ],
   "source": [
    "df_vector.show(5)"
   ]
  },
  {
   "cell_type": "code",
   "execution_count": 90,
   "metadata": {},
   "outputs": [],
   "source": [
    "output=df_vector.select(\"features\",\"Runs\")"
   ]
  },
  {
   "cell_type": "code",
   "execution_count": 91,
   "metadata": {},
   "outputs": [
    {
     "name": "stdout",
     "output_type": "stream",
     "text": [
      "+-------------+----+\n",
      "|     features|Runs|\n",
      "+-------------+----+\n",
      "|[158.0,118.0]|50.0|\n",
      "|  [17.0,19.0]| 9.0|\n",
      "+-------------+----+\n",
      "only showing top 2 rows\n",
      "\n"
     ]
    }
   ],
   "source": [
    "output.show(2)"
   ]
  },
  {
   "cell_type": "code",
   "execution_count": 92,
   "metadata": {},
   "outputs": [],
   "source": [
    "regression = LinearRegression(featuresCol=\"features\", labelCol=\"Runs\")"
   ]
  },
  {
   "cell_type": "code",
   "execution_count": 93,
   "metadata": {},
   "outputs": [],
   "source": [
    "model=regression.fit(output)"
   ]
  },
  {
   "cell_type": "code",
   "execution_count": 95,
   "metadata": {},
   "outputs": [
    {
     "data": {
      "text/plain": [
       "DenseVector([0.1825, 0.302])"
      ]
     },
     "execution_count": 95,
     "metadata": {},
     "output_type": "execute_result"
    }
   ],
   "source": [
    "model.coefficients"
   ]
  },
  {
   "cell_type": "code",
   "execution_count": 96,
   "metadata": {},
   "outputs": [],
   "source": [
    "predictions=model.transform(df_vector)"
   ]
  },
  {
   "cell_type": "code",
   "execution_count": 97,
   "metadata": {},
   "outputs": [],
   "source": [
    "predicted_df = predictions.select(\"Runs\", \"Mins\", \"BF\", \"prediction\").toPandas()"
   ]
  },
  {
   "cell_type": "code",
   "execution_count": 100,
   "metadata": {},
   "outputs": [],
   "source": [
    "out=predicted_df.to_csv()"
   ]
  },
  {
   "cell_type": "code",
   "execution_count": 101,
   "metadata": {},
   "outputs": [
    {
     "name": "stdout",
     "output_type": "stream",
     "text": [
      "      Runs   Mins     BF  prediction\n",
      "0     50.0  158.0  118.0   62.943103\n",
      "1      9.0   17.0   19.0    7.312663\n",
      "2    165.0  361.0  296.0  153.746875\n",
      "3     78.0  285.0  213.0  114.810608\n",
      "4     62.0  128.0  114.0   56.260288\n",
      "..     ...    ...    ...         ...\n",
      "323  146.0  465.0  314.0  178.162274\n",
      "324   14.0  146.0   91.0   52.598921\n",
      "325   94.0  219.0  153.0   84.645498\n",
      "326    3.0    6.0    7.0    1.681125\n",
      "327    2.0   25.0   13.0    6.960543\n",
      "\n",
      "[328 rows x 4 columns]\n"
     ]
    }
   ],
   "source": [
    "print(predicted_df)"
   ]
  }
 ],
 "metadata": {
  "kernelspec": {
   "display_name": "Python 3",
   "language": "python",
   "name": "python3"
  },
  "language_info": {
   "codemirror_mode": {
    "name": "ipython",
    "version": 3
   },
   "file_extension": ".py",
   "mimetype": "text/x-python",
   "name": "python",
   "nbconvert_exporter": "python",
   "pygments_lexer": "ipython3",
   "version": "3.12.2"
  }
 },
 "nbformat": 4,
 "nbformat_minor": 2
}
